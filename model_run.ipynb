{
  "nbformat": 4,
  "nbformat_minor": 0,
  "metadata": {
    "colab": {
      "provenance": []
    },
    "kernelspec": {
      "name": "python3",
      "display_name": "Python 3"
    },
    "language_info": {
      "name": "python"
    }
  },
  "cells": [
    {
      "cell_type": "code",
      "execution_count": 1,
      "metadata": {
        "colab": {
          "base_uri": "https://localhost:8080/"
        },
        "id": "gYDLNowDcoFE",
        "outputId": "9c34f26b-7f83-44cf-9b3e-f41ac0954b49"
      },
      "outputs": [
        {
          "output_type": "stream",
          "name": "stdout",
          "text": [
            "Test Accuracy: 77.26%\n",
            "\n",
            "Classification Report:\n",
            "               precision    recall  f1-score   support\n",
            "\n",
            "        Good       0.73      0.65      0.69      2700\n",
            "        Poor       0.78      0.78      0.78      4317\n",
            "    Standard       0.78      0.81      0.80      8064\n",
            "\n",
            "    accuracy                           0.77     15081\n",
            "   macro avg       0.76      0.75      0.75     15081\n",
            "weighted avg       0.77      0.77      0.77     15081\n",
            "\n",
            "\n",
            "Feature Importances:\n",
            " [0.04355511 0.04648294 0.05202492 0.04255313 0.04942174 0.09623673\n",
            " 0.02936863 0.06781    0.05577448 0.0713369  0.05133473 0.12372239\n",
            " 0.05340261 0.05326055 0.047127   0.0614787  0.05510944]\n"
          ]
        }
      ],
      "source": [
        "import pandas as pd\n",
        "from sklearn.model_selection import train_test_split\n",
        "from sklearn.ensemble import RandomForestClassifier\n",
        "from sklearn.metrics import accuracy_score, classification_report\n",
        "\n",
        "# Load your dataset (Replace with your actual dataset)\n",
        "# Example: df = pd.read_csv('your_dataset.csv')\n",
        "data = pd.read_csv('updated_data.csv')\n",
        "\n",
        "df = pd.DataFrame(data)\n",
        "\n",
        "# Splitting the dataset into features (X) and target (y)\n",
        "X = df.drop(columns=['Credit_Score'])  # Features\n",
        "y = df['Credit_Score']  # Target\n",
        "\n",
        "# Split the dataset into training and testing sets (80% train, 20% test)\n",
        "X_train, X_test, y_train, y_test = train_test_split(X, y, test_size=0.2, random_state=42)\n",
        "\n",
        "# Initialize the RandomForestClassifier\n",
        "rf = RandomForestClassifier(n_estimators=100, random_state=42)\n",
        "\n",
        "# Train the model on the training data\n",
        "rf.fit(X_train, y_train)\n",
        "\n",
        "# Make predictions on the test data\n",
        "y_pred = rf.predict(X_test)\n",
        "\n",
        "# Evaluate the model's performance\n",
        "accuracy = accuracy_score(y_test, y_pred)\n",
        "print(\"Test Accuracy: {:.2f}%\".format(accuracy * 100))\n",
        "\n",
        "# Detailed classification report\n",
        "print(\"\\nClassification Report:\\n\", classification_report(y_test, y_pred))\n",
        "\n",
        "# Optionally, feature importances can be printed\n",
        "print(\"\\nFeature Importances:\\n\", rf.feature_importances_)\n"
      ]
    }
  ]
}